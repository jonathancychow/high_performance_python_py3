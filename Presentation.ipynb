{
 "cells": [
  {
   "cell_type": "markdown",
   "metadata": {
    "slideshow": {
     "slide_type": "slide"
    }
   },
   "source": [
    "# High Performance Python"
   ]
  },
  {
   "cell_type": "markdown",
   "metadata": {
    "slideshow": {
     "slide_type": "-"
    }
   },
   "source": [
    "\n",
    "* How and what to measure\n",
    "* Set vs List\n",
    "* Append vs Comprehension\n",
    "* Namespace\n",
    "* Iterators vs Generators"
   ]
  },
  {
   "cell_type": "markdown",
   "metadata": {
    "slideshow": {
     "slide_type": "slide"
    }
   },
   "source": [
    "## How and what to measure\n",
    "\n",
    "* memory profiler\n",
    "* timeit\n"
   ]
  },
  {
   "cell_type": "code",
   "execution_count": null,
   "metadata": {
    "slideshow": {
     "slide_type": "fragment"
    }
   },
   "outputs": [],
   "source": [
    "%load_ext memory_profiler\n",
    "import timeit\n"
   ]
  },
  {
   "cell_type": "markdown",
   "metadata": {
    "slideshow": {
     "slide_type": "slide"
    }
   },
   "source": [
    "## Append vs Comprehension\n",
    "It's all about memory allocation"
   ]
  },
  {
   "cell_type": "code",
   "execution_count": null,
   "metadata": {
    "slideshow": {
     "slide_type": "subslide"
    }
   },
   "outputs": [],
   "source": [
    "arraySize = 100_00\n",
    "%memit [i*i for i in range(0,arraySize)] \n",
    "%timeit [i*i for i in range(0,arraySize)] "
   ]
  },
  {
   "cell_type": "code",
   "execution_count": null,
   "metadata": {
    "slideshow": {
     "slide_type": "-"
    }
   },
   "outputs": [],
   "source": [
    "%%memit array = [] \n",
    "for i in range(arraySize):\n",
    "    array.append(i*i)"
   ]
  },
  {
   "cell_type": "code",
   "execution_count": null,
   "metadata": {
    "slideshow": {
     "slide_type": "-"
    }
   },
   "outputs": [],
   "source": [
    "%%timeit array = [] \n",
    "for i in range(arraySize):\n",
    "    array.append(i*i)"
   ]
  },
  {
   "cell_type": "code",
   "execution_count": null,
   "metadata": {
    "slideshow": {
     "slide_type": "subslide"
    }
   },
   "outputs": [],
   "source": [
    "%timeit tup = (1,2,3,4,5,6,7,8)\n",
    "tup = (1,2,3,4,5,6,7,8)\n",
    "%timeit tup[3]"
   ]
  },
  {
   "cell_type": "code",
   "execution_count": null,
   "metadata": {},
   "outputs": [],
   "source": [
    "%timeit lis = [1,2,3,4,5,6,7,8]\n",
    "lis = [1,2,3,4,5,6,7,8]\n",
    "%timeit lis[3]"
   ]
  },
  {
   "cell_type": "markdown",
   "metadata": {
    "slideshow": {
     "slide_type": "subslide"
    }
   },
   "source": [
    "- Lists are dynamics arrays, they are mutable and allow for resizing\n",
    "- Tuples are static arrays, immutable, no resizing\n",
    "- Memory allocation in list is nonlinear \n",
    "- Tuples are cached by the Python runtime\n",
    "- High Performance Python P.69\n",
    " - https://pepa.holla.cz/wp-content/uploads/2016/08/High-Performance-Python.pdf"
   ]
  },
  {
   "cell_type": "markdown",
   "metadata": {
    "slideshow": {
     "slide_type": "slide"
    }
   },
   "source": [
    "## List & Set"
   ]
  },
  {
   "cell_type": "code",
   "execution_count": null,
   "metadata": {
    "slideshow": {
     "slide_type": "subslide"
    }
   },
   "outputs": [],
   "source": [
    "import names\n",
    "import random\n",
    "def listUniqueNames(phoneBook):\n",
    "    uniqueNames = []\n",
    "    for name, phone in phoneBook:\n",
    "        firstName, lastName = name.split(\" \",1)\n",
    "        for unique in uniqueNames:\n",
    "            if unique == firstName:\n",
    "                break\n",
    "        else:\n",
    "                uniqueNames.append(firstName)\n",
    "    return len(uniqueNames)\n",
    "\n",
    "def setUniqueNames(phoneBook):\n",
    "    uniqueNames = set()\n",
    "    for name, phone in phoneBook:\n",
    "        firstName, lastName = name.split(\" \",1)\n",
    "        uniqueNames.add(firstName)\n",
    "    return len(uniqueNames)\n",
    "\n",
    "phoneBook=[(\"Jonatan Chow\",\"1234567\")]\n",
    "\n",
    "# Keep size below 100_00\n",
    "size = 100_00\n",
    "for i in range(size):\n",
    "    phoneBook.append((names.get_full_name(),\"12344566545\"))\n",
    "\n",
    "largePhoneBook = phoneBook"
   ]
  },
  {
   "cell_type": "code",
   "execution_count": null,
   "metadata": {},
   "outputs": [],
   "source": [
    "%timeit -r 5 -n 100 listUniqueNames(largePhoneBook)\n",
    "%timeit -r 5 -n 100 setUniqueNames(largePhoneBook)"
   ]
  },
  {
   "cell_type": "markdown",
   "metadata": {
    "slideshow": {
     "slide_type": "slide"
    }
   },
   "source": [
    "## Namespace"
   ]
  },
  {
   "cell_type": "code",
   "execution_count": null,
   "metadata": {
    "slideshow": {
     "slide_type": "fragment"
    }
   },
   "outputs": [],
   "source": [
    "import math \n",
    "from math import sin"
   ]
  },
  {
   "cell_type": "code",
   "execution_count": null,
   "metadata": {
    "slideshow": {
     "slide_type": "subslide"
    }
   },
   "outputs": [],
   "source": [
    "def test1(x):\n",
    "    res = 1\n",
    "    for _ in range(1000):\n",
    "        res += math.sin(x)\n",
    "    return res\n",
    "\n",
    "\n",
    "def test2(x):\n",
    "    res = 1\n",
    "    for _ in range(1000):\n",
    "        res += sin(x)\n",
    "    return res\n",
    "\n",
    "\n",
    "def test3(x, sin=math.sin):\n",
    "    res = 1\n",
    "    for _ in range(1000):\n",
    "        res += sin(x)\n",
    "    return res"
   ]
  },
  {
   "cell_type": "code",
   "execution_count": null,
   "metadata": {
    "slideshow": {
     "slide_type": "-"
    }
   },
   "outputs": [],
   "source": [
    "%timeit -r 10 -n 1000 test1(0.05)\n",
    "%timeit -r 10 -n 1000 test2(0.05)\n",
    "%timeit -r 10 -n 1000 test3(0.05)"
   ]
  },
  {
   "cell_type": "markdown",
   "metadata": {
    "slideshow": {
     "slide_type": "subslide"
    }
   },
   "source": [
    "### Python Hierarchy\n",
    " 1) locals array\n",
    " \n",
    " 2) globals dictionary\n",
    " \n",
    " 3) __builtin__ object"
   ]
  },
  {
   "cell_type": "code",
   "execution_count": null,
   "metadata": {
    "slideshow": {
     "slide_type": "subslide"
    }
   },
   "outputs": [],
   "source": [
    "def test1(x):\n",
    "    res = 1\n",
    "    for _ in range(1000):\n",
    "        res += math.sin(x)\n",
    "    return res\n",
    "\n",
    "\n",
    "def test2(x):\n",
    "    res = 1\n",
    "    for _ in range(1000):\n",
    "        res += sin(x)\n",
    "    return res\n",
    "\n",
    "\n",
    "def test3(x, sin=math.sin):\n",
    "    res = 1\n",
    "    for _ in range(1000):\n",
    "        res += sin(x)\n",
    "    return res"
   ]
  },
  {
   "cell_type": "markdown",
   "metadata": {
    "slideshow": {
     "slide_type": "-"
    }
   },
   "source": [
    "- test1 : first look at the math library then look at sin \n",
    "- test2 : look at the global namespace\n",
    "- test3 : sin function is stored as a local variable "
   ]
  },
  {
   "cell_type": "markdown",
   "metadata": {
    "slideshow": {
     "slide_type": "slide"
    }
   },
   "source": [
    "## Iterators vs Generators"
   ]
  },
  {
   "cell_type": "code",
   "execution_count": null,
   "metadata": {
    "slideshow": {
     "slide_type": "subslide"
    }
   },
   "outputs": [],
   "source": [
    "def fibonacci_list(num_items):\n",
    "    numbers = []\n",
    "    a, b = 0, 1\n",
    "    while len(numbers) < num_items:\n",
    "        numbers.append(a)\n",
    "        a, b = b, a + b\n",
    "    return numbers\n",
    "\n",
    "def fibonacci_gen(num_items):\n",
    "    a, b = 0, 1\n",
    "    while num_items:\n",
    "        yield a\n",
    "        a, b = b, a + b\n",
    "        num_items -= 1"
   ]
  },
  {
   "cell_type": "code",
   "execution_count": null,
   "metadata": {
    "slideshow": {
     "slide_type": "-"
    }
   },
   "outputs": [],
   "source": [
    "def test_fib_list(size):\n",
    "    for i in fibonacci_list(size):\n",
    "        pass\n",
    "    \n",
    "def test_fib_gen(size):\n",
    "    for i in fibonacci_gen(size):\n",
    "        pass"
   ]
  },
  {
   "cell_type": "code",
   "execution_count": null,
   "metadata": {
    "slideshow": {
     "slide_type": "subslide"
    }
   },
   "outputs": [],
   "source": [
    "# Keep size small \n",
    "size = 100_0\n",
    "\n",
    "%timeit -r 10 -n 1000 test_fib_list(size)\n",
    "%timeit -r 10 -n 1000 test_fib_gen(size)"
   ]
  },
  {
   "cell_type": "code",
   "execution_count": null,
   "metadata": {},
   "outputs": [],
   "source": [
    "size = 100_000\n",
    "%memit test_fib_list(size)\n",
    "%memit test_fib_gen(size)"
   ]
  },
  {
   "cell_type": "code",
   "execution_count": null,
   "metadata": {},
   "outputs": [],
   "source": [
    "size = 100_000\n",
    "%memit len([n for n in fibonacci_list(size) if n%3 ==0])\n",
    "%memit len([n for n in fibonacci_gen(size) if n%3 ==0])"
   ]
  },
  {
   "cell_type": "markdown",
   "metadata": {
    "slideshow": {
     "slide_type": "slide"
    }
   },
   "source": [
    "## Anything else you could do? \n",
    "\n",
    "A lot. \n",
    "- Collections \n",
    "- Async\n",
    "- Compiling to C\n",
    "- Multiprocessing\n",
    " - threads\n",
    "  - processes\n",
    "- Cluster"
   ]
  }
 ],
 "metadata": {
  "celltoolbar": "Slideshow",
  "interpreter": {
   "hash": "fafb1d4a8210417ca7dc968c5d4d7e420061a90fa4c825268e7996abe119cb9e"
  },
  "kernelspec": {
   "display_name": "Python 3 (ipykernel)",
   "language": "python",
   "name": "python3"
  },
  "language_info": {
   "codemirror_mode": {
    "name": "ipython",
    "version": 3
   },
   "file_extension": ".py",
   "mimetype": "text/x-python",
   "name": "python",
   "nbconvert_exporter": "python",
   "pygments_lexer": "ipython3",
   "version": "3.8.5"
  }
 },
 "nbformat": 4,
 "nbformat_minor": 4
}
