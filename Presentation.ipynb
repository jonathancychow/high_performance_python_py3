{
 "cells": [
  {
   "cell_type": "markdown",
   "metadata": {
    "slideshow": {
     "slide_type": "slide"
    }
   },
   "source": [
    "# High Performance Python"
   ]
  },
  {
   "cell_type": "markdown",
   "metadata": {
    "slideshow": {
     "slide_type": "-"
    }
   },
   "source": [
    "\n",
    "* How and what to measure\n",
    "* Set vs List\n",
    "* Iterators vs Generators"
   ]
  },
  {
   "cell_type": "markdown",
   "metadata": {
    "slideshow": {
     "slide_type": "slide"
    }
   },
   "source": [
    "## How and what to measure\n",
    "\n",
    "* memory profiler\n",
    "* timeit\n"
   ]
  },
  {
   "cell_type": "code",
   "execution_count": null,
   "metadata": {
    "slideshow": {
     "slide_type": "fragment"
    }
   },
   "outputs": [],
   "source": [
    "%load_ext memory_profiler\n",
    "import timeit\n"
   ]
  },
  {
   "cell_type": "markdown",
   "metadata": {
    "slideshow": {
     "slide_type": "slide"
    }
   },
   "source": [
    "## Memory Allocation"
   ]
  },
  {
   "cell_type": "code",
   "execution_count": null,
   "metadata": {
    "slideshow": {
     "slide_type": "-"
    }
   },
   "outputs": [],
   "source": [
    "arraySize = 100_000_000\n",
    "%memit [i*i for i in range(0,arraySize)] \n",
    "%timeit [i*i for i in range(0,arraySize)] "
   ]
  },
  {
   "cell_type": "code",
   "execution_count": null,
   "metadata": {},
   "outputs": [],
   "source": [
    "%%memit array = [] \n",
    "for i in range(arraySize):\n",
    "    array.append(i*i)"
   ]
  },
  {
   "cell_type": "code",
   "execution_count": null,
   "metadata": {},
   "outputs": [],
   "source": [
    "%%timeit array = [] \n",
    "for i in range(arraySize):\n",
    "    array.append(i*i)"
   ]
  },
  {
   "cell_type": "code",
   "execution_count": null,
   "metadata": {
    "slideshow": {
     "slide_type": "slide"
    }
   },
   "outputs": [],
   "source": [
    "%timeit tup = (1,2,3,4,5,6,7,8)"
   ]
  },
  {
   "cell_type": "code",
   "execution_count": null,
   "metadata": {},
   "outputs": [],
   "source": [
    "%timeit lis = [1,2,3,4,5,6,7,8]"
   ]
  },
  {
   "cell_type": "code",
   "execution_count": 11,
   "metadata": {
    "slideshow": {
     "slide_type": "slide"
    }
   },
   "outputs": [],
   "source": [
    "import names\n",
    "import random\n",
    "def listUniqueNames(phoneBook):\n",
    "    uniqueNames = []\n",
    "    for name, phone in phoneBook:\n",
    "        firstName, lastName = name.split(\" \",1)\n",
    "        for unique in uniqueNames:\n",
    "            if unique == firstName:\n",
    "                break\n",
    "        else:\n",
    "                uniqueNames.append(firstName)\n",
    "    return len(uniqueNames)\n",
    "\n",
    "def setUniqueNames(phoneBook):\n",
    "    uniqueNames = set()\n",
    "    for name, phone in phoneBook:\n",
    "        firstName, lastName = name.split(\" \",1)\n",
    "        uniqueNames.add(firstName)\n",
    "    return len(uniqueNames)\n",
    "\n",
    "phoneBook=[(\"Jonatan Chow\",\"1234567\")\n",
    "          ]\n",
    "for i in range(100_000):\n",
    "    phoneBook.append((names.get_full_name(),\"12344566545\"))\n",
    "\n",
    "# largePhoneBook =[x for x in phoneBook for i in range(10000)]\n",
    "largePhoneBook = phoneBook\n"
   ]
  },
  {
   "cell_type": "code",
   "execution_count": 14,
   "metadata": {},
   "outputs": [
    {
     "name": "stdout",
     "output_type": "stream",
     "text": [
      "1.3 s ± 19 ms per loop (mean ± std. dev. of 5 runs, 100 loops each)\n"
     ]
    }
   ],
   "source": [
    "%timeit -r 5 -n 100 listUniqueNames(largePhoneBook)"
   ]
  },
  {
   "cell_type": "code",
   "execution_count": 15,
   "metadata": {},
   "outputs": [
    {
     "name": "stdout",
     "output_type": "stream",
     "text": [
      "20.7 ms ± 293 µs per loop (mean ± std. dev. of 5 runs, 100 loops each)\n"
     ]
    }
   ],
   "source": [
    "%timeit -r 5 -n 100 setUniqueNames(largePhoneBook)"
   ]
  }
 ],
 "metadata": {
  "celltoolbar": "Slideshow",
  "interpreter": {
   "hash": "fafb1d4a8210417ca7dc968c5d4d7e420061a90fa4c825268e7996abe119cb9e"
  },
  "kernelspec": {
   "display_name": "Python 3 (ipykernel)",
   "language": "python",
   "name": "python3"
  },
  "language_info": {
   "codemirror_mode": {
    "name": "ipython",
    "version": 3
   },
   "file_extension": ".py",
   "mimetype": "text/x-python",
   "name": "python",
   "nbconvert_exporter": "python",
   "pygments_lexer": "ipython3",
   "version": "3.8.5"
  }
 },
 "nbformat": 4,
 "nbformat_minor": 4
}
