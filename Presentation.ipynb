{
 "cells": [
  {
   "cell_type": "markdown",
   "metadata": {
    "slideshow": {
     "slide_type": "slide"
    }
   },
   "source": [
    "# High Performance Python"
   ]
  },
  {
   "cell_type": "markdown",
   "metadata": {
    "slideshow": {
     "slide_type": "-"
    }
   },
   "source": [
    "\n",
    "* How and what to measure\n",
    "* Set vs List\n",
    "* Append vs Comprehension\n",
    "* Namespace\n",
    "* Iterators vs Generators"
   ]
  },
  {
   "cell_type": "markdown",
   "metadata": {
    "slideshow": {
     "slide_type": "slide"
    }
   },
   "source": [
    "## How and what to measure\n",
    "\n",
    "* memory profiler\n",
    "* timeit\n"
   ]
  },
  {
   "cell_type": "code",
   "execution_count": 30,
   "metadata": {
    "slideshow": {
     "slide_type": "fragment"
    }
   },
   "outputs": [],
   "source": [
    "%load_ext memory_profiler\n",
    "import timeit\n"
   ]
  },
  {
   "cell_type": "markdown",
   "metadata": {
    "slideshow": {
     "slide_type": "slide"
    }
   },
   "source": [
    "## Memory Allocation"
   ]
  },
  {
   "cell_type": "code",
   "execution_count": 34,
   "metadata": {
    "slideshow": {
     "slide_type": "subslide"
    }
   },
   "outputs": [
    {
     "name": "stdout",
     "output_type": "stream",
     "text": [
      "peak memory: 3916.94 MiB, increment: 0.00 MiB\n",
      "458 µs ± 9.65 µs per loop (mean ± std. dev. of 7 runs, 1000 loops each)\n"
     ]
    }
   ],
   "source": [
    "arraySize = 100_00\n",
    "%memit [i*i for i in range(0,arraySize)] \n",
    "%timeit [i*i for i in range(0,arraySize)] "
   ]
  },
  {
   "cell_type": "code",
   "execution_count": 35,
   "metadata": {
    "slideshow": {
     "slide_type": "-"
    }
   },
   "outputs": [
    {
     "name": "stdout",
     "output_type": "stream",
     "text": [
      "peak memory: 54.30 MiB, increment: 0.30 MiB\n"
     ]
    }
   ],
   "source": [
    "%%memit array = [] \n",
    "for i in range(arraySize):\n",
    "    array.append(i*i)"
   ]
  },
  {
   "cell_type": "code",
   "execution_count": 36,
   "metadata": {
    "slideshow": {
     "slide_type": "-"
    }
   },
   "outputs": [
    {
     "name": "stdout",
     "output_type": "stream",
     "text": [
      "760 µs ± 5.47 µs per loop (mean ± std. dev. of 7 runs, 1000 loops each)\n"
     ]
    }
   ],
   "source": [
    "%%timeit array = [] \n",
    "for i in range(arraySize):\n",
    "    array.append(i*i)"
   ]
  },
  {
   "cell_type": "code",
   "execution_count": 42,
   "metadata": {
    "slideshow": {
     "slide_type": "subslide"
    }
   },
   "outputs": [
    {
     "name": "stdout",
     "output_type": "stream",
     "text": [
      "7.48 ns ± 0.0827 ns per loop (mean ± std. dev. of 7 runs, 100000000 loops each)\n",
      "26.7 ns ± 0.35 ns per loop (mean ± std. dev. of 7 runs, 10000000 loops each)\n"
     ]
    }
   ],
   "source": [
    "%timeit tup = (1,2,3,4,5,6,7,8)\n",
    "tup = (1,2,3,4,5,6,7,8)\n",
    "%timeit tup[3]"
   ]
  },
  {
   "cell_type": "code",
   "execution_count": 44,
   "metadata": {},
   "outputs": [
    {
     "name": "stdout",
     "output_type": "stream",
     "text": [
      "42.7 ns ± 0.402 ns per loop (mean ± std. dev. of 7 runs, 10000000 loops each)\n",
      "30.4 ns ± 0.223 ns per loop (mean ± std. dev. of 7 runs, 10000000 loops each)\n"
     ]
    }
   ],
   "source": [
    "%timeit lis = [1,2,3,4,5,6,7,8]\n",
    "lis = [1,2,3,4,5,6,7,8]\n",
    "%timeit lis[3]"
   ]
  },
  {
   "cell_type": "markdown",
   "metadata": {
    "slideshow": {
     "slide_type": "slide"
    }
   },
   "source": [
    "## List & Set"
   ]
  },
  {
   "cell_type": "code",
   "execution_count": 47,
   "metadata": {
    "slideshow": {
     "slide_type": "subslide"
    }
   },
   "outputs": [],
   "source": [
    "import names\n",
    "import random\n",
    "def listUniqueNames(phoneBook):\n",
    "    uniqueNames = []\n",
    "    for name, phone in phoneBook:\n",
    "        firstName, lastName = name.split(\" \",1)\n",
    "        for unique in uniqueNames:\n",
    "            if unique == firstName:\n",
    "                break\n",
    "        else:\n",
    "                uniqueNames.append(firstName)\n",
    "    return len(uniqueNames)\n",
    "\n",
    "def setUniqueNames(phoneBook):\n",
    "    uniqueNames = set()\n",
    "    for name, phone in phoneBook:\n",
    "        firstName, lastName = name.split(\" \",1)\n",
    "        uniqueNames.add(firstName)\n",
    "    return len(uniqueNames)\n",
    "\n",
    "phoneBook=[(\"Jonatan Chow\",\"1234567\")\n",
    "          ]\n",
    "\n",
    "size = 100_0\n",
    "for i in range(size):\n",
    "    phoneBook.append((names.get_full_name(),\"12344566545\"))\n",
    "\n",
    "largePhoneBook = phoneBook"
   ]
  },
  {
   "cell_type": "code",
   "execution_count": 46,
   "metadata": {},
   "outputs": [
    {
     "name": "stdout",
     "output_type": "stream",
     "text": [
      "4.28 ms ± 121 µs per loop (mean ± std. dev. of 5 runs, 100 loops each)\n",
      "203 µs ± 3.25 µs per loop (mean ± std. dev. of 5 runs, 100 loops each)\n"
     ]
    }
   ],
   "source": [
    "%timeit -r 5 -n 100 listUniqueNames(largePhoneBook)\n",
    "%timeit -r 5 -n 100 setUniqueNames(largePhoneBook)"
   ]
  },
  {
   "cell_type": "markdown",
   "metadata": {
    "slideshow": {
     "slide_type": "slide"
    }
   },
   "source": [
    "## Namespace"
   ]
  },
  {
   "cell_type": "code",
   "execution_count": null,
   "metadata": {
    "slideshow": {
     "slide_type": "fragment"
    }
   },
   "outputs": [],
   "source": [
    "import math \n",
    "from math import sin"
   ]
  },
  {
   "cell_type": "code",
   "execution_count": 27,
   "metadata": {
    "slideshow": {
     "slide_type": "subslide"
    }
   },
   "outputs": [],
   "source": [
    "def test1(x):\n",
    "    res = 1\n",
    "    for _ in range(1000):\n",
    "        res += math.sin(x)\n",
    "    return res\n",
    "\n",
    "\n",
    "def test2(x):\n",
    "    res = 1\n",
    "    for _ in range(1000):\n",
    "        res += sin(x)\n",
    "    return res\n",
    "\n",
    "\n",
    "def test3(x, sin=math.sin):\n",
    "    res = 1\n",
    "    for _ in range(1000):\n",
    "        res += sin(x)\n",
    "    return res"
   ]
  },
  {
   "cell_type": "code",
   "execution_count": 28,
   "metadata": {
    "slideshow": {
     "slide_type": "-"
    }
   },
   "outputs": [
    {
     "name": "stdout",
     "output_type": "stream",
     "text": [
      "82.1 µs ± 10.1 µs per loop (mean ± std. dev. of 10 runs, 1000 loops each)\n",
      "56.6 µs ± 2.37 µs per loop (mean ± std. dev. of 10 runs, 1000 loops each)\n",
      "54.2 µs ± 896 ns per loop (mean ± std. dev. of 10 runs, 1000 loops each)\n"
     ]
    }
   ],
   "source": [
    "%timeit -r 10 -n 1000 test1(0.05)\n",
    "%timeit -r 10 -n 1000 test2(0.05)\n",
    "%timeit -r 10 -n 1000 test3(0.05)"
   ]
  }
 ],
 "metadata": {
  "celltoolbar": "Slideshow",
  "interpreter": {
   "hash": "fafb1d4a8210417ca7dc968c5d4d7e420061a90fa4c825268e7996abe119cb9e"
  },
  "kernelspec": {
   "display_name": "Python 3 (ipykernel)",
   "language": "python",
   "name": "python3"
  },
  "language_info": {
   "codemirror_mode": {
    "name": "ipython",
    "version": 3
   },
   "file_extension": ".py",
   "mimetype": "text/x-python",
   "name": "python",
   "nbconvert_exporter": "python",
   "pygments_lexer": "ipython3",
   "version": "3.8.5"
  }
 },
 "nbformat": 4,
 "nbformat_minor": 4
}
