{
 "cells": [
  {
   "cell_type": "markdown",
   "metadata": {
    "slideshow": {
     "slide_type": "slide"
    }
   },
   "source": [
    "# High Performance Python"
   ]
  },
  {
   "cell_type": "markdown",
   "metadata": {
    "slideshow": {
     "slide_type": "-"
    }
   },
   "source": [
    "\n",
    "* How and what to measure\n",
    "* Set vs List\n",
    "* Iterators vs Generators"
   ]
  },
  {
   "cell_type": "markdown",
   "metadata": {
    "slideshow": {
     "slide_type": "slide"
    }
   },
   "source": [
    "## How and what to measure\n",
    "\n",
    "* memory profiler\n",
    "* timeit\n"
   ]
  },
  {
   "cell_type": "code",
   "execution_count": null,
   "metadata": {
    "slideshow": {
     "slide_type": "fragment"
    }
   },
   "outputs": [],
   "source": [
    "%load_ext memory_profiler\n",
    "import timeit\n"
   ]
  },
  {
   "cell_type": "markdown",
   "metadata": {
    "slideshow": {
     "slide_type": "slide"
    }
   },
   "source": [
    "## Memory Allocation"
   ]
  },
  {
   "cell_type": "code",
   "execution_count": null,
   "metadata": {
    "slideshow": {
     "slide_type": "-"
    }
   },
   "outputs": [],
   "source": [
    "arraySize = 100_000_000\n",
    "%memit [i*i for i in range(0,arraySize)] \n",
    "%timeit [i*i for i in range(0,arraySize)] "
   ]
  },
  {
   "cell_type": "code",
   "execution_count": null,
   "metadata": {},
   "outputs": [],
   "source": [
    "%%memit array = [] \n",
    "for i in range(arraySize):\n",
    "    array.append(i*i)"
   ]
  },
  {
   "cell_type": "code",
   "execution_count": null,
   "metadata": {},
   "outputs": [],
   "source": [
    "%%timeit array = [] \n",
    "for i in range(arraySize):\n",
    "    array.append(i*i)"
   ]
  },
  {
   "cell_type": "code",
   "execution_count": null,
   "metadata": {
    "slideshow": {
     "slide_type": "slide"
    }
   },
   "outputs": [],
   "source": [
    "%timeit tup = (1,2,3,4,5,6,7,8)"
   ]
  },
  {
   "cell_type": "code",
   "execution_count": null,
   "metadata": {},
   "outputs": [],
   "source": [
    "%timeit lis = [1,2,3,4,5,6,7,8]"
   ]
  },
  {
   "cell_type": "code",
   "execution_count": null,
   "metadata": {
    "slideshow": {
     "slide_type": "slide"
    }
   },
   "outputs": [],
   "source": [
    "def listUniqueNames(phoneBook):\n",
    "    uniqueNames = []\n",
    "    for name, phone in phoneBook:\n",
    "        firstName, lastName = name.split(\" \",1)\n",
    "        for unique in uniqueNames:\n",
    "            if unique == firstName:\n",
    "                break\n",
    "            else:\n",
    "                uniqueNames.append(firstName)\n",
    "    return len(uniqueNames)\n",
    "\n",
    "def setUniqueNames(phoneBook):\n",
    "    uniqueNames = set()\n",
    "    for name, phone in phoneBook:\n",
    "        firstName, lastName = name.split(\" \",1)\n",
    "        uniqueNames.add(firstName)\n",
    "    return len(uniqueNames)\n",
    "\n",
    "phoneBook=[(\"Jonatan Chow\",\"1234567\"),\n",
    "           (\"Flipie Gaspar\",\"98765432\"),\n",
    "           (\"Fatih Kucuksubasi\",\"1234343544\"),\n",
    "           (\"Khouloud Saadi\",\"123\"),\n",
    "           (\"Andreas Glatz\",\"122\")\n",
    "          ]\n",
    "largePhoneBook =[x for x in phoneBook for i in range(10000)]\n"
   ]
  },
  {
   "cell_type": "code",
   "execution_count": null,
   "metadata": {},
   "outputs": [],
   "source": [
    "%timeit listUniqueNames(largePhoneBook)"
   ]
  },
  {
   "cell_type": "code",
   "execution_count": null,
   "metadata": {},
   "outputs": [],
   "source": [
    "%timeit setUniqueNames(largePhoneBook)"
   ]
  }
 ],
 "metadata": {
  "celltoolbar": "Slideshow",
  "kernelspec": {
   "display_name": "Python 3 (ipykernel)",
   "language": "python",
   "name": "python3"
  },
  "language_info": {
   "codemirror_mode": {
    "name": "ipython",
    "version": 3
   },
   "file_extension": ".py",
   "mimetype": "text/x-python",
   "name": "python",
   "nbconvert_exporter": "python",
   "pygments_lexer": "ipython3",
   "version": "3.8.5"
  }
 },
 "nbformat": 4,
 "nbformat_minor": 4
}
